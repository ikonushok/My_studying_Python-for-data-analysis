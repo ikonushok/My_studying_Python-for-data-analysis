{
  "nbformat": 4,
  "nbformat_minor": 0,
  "metadata": {
    "colab": {
      "name": "Задание 1.3 - Дипломная работа.ipynb",
      "provenance": [],
      "mount_file_id": "1kSD7XL8RRjB3l8iPT34nyyE6Q9uBWkne",
      "authorship_tag": "ABX9TyNvALNR/KSgzQ5KcSfbJ5mx",
      "include_colab_link": true
    },
    "kernelspec": {
      "name": "python3",
      "display_name": "Python 3"
    }
  },
  "cells": [
    {
      "cell_type": "markdown",
      "metadata": {
        "id": "view-in-github",
        "colab_type": "text"
      },
      "source": [
        "<a href=\"https://colab.research.google.com/github/ikonushok/Python-for-data-analysis/blob/master/%D0%97%D0%B0%D0%B4%D0%B0%D0%BD%D0%B8%D0%B5_1_3_%D0%94%D0%B8%D0%BF%D0%BB%D0%BE%D0%BC%D0%BD%D0%B0%D1%8F_%D1%80%D0%B0%D0%B1%D0%BE%D1%82%D0%B0.ipynb\" target=\"_parent\"><img src=\"https://colab.research.google.com/assets/colab-badge.svg\" alt=\"Open In Colab\"/></a>"
      ]
    },
    {
      "cell_type": "markdown",
      "metadata": {
        "id": "tqCTaLWJ2WZA",
        "colab_type": "text"
      },
      "source": [
        ""
      ]
    },
    {
      "cell_type": "code",
      "metadata": {
        "id": "G7DHtpng2X4o",
        "colab_type": "code",
        "colab": {
          "base_uri": "https://localhost:8080/",
          "height": 34
        },
        "outputId": "95b8002c-7c37-4194-a2cf-8cf49be8d495"
      },
      "source": [
        " h = \"Hallo\"\n",
        " print (h)\n"
      ],
      "execution_count": 2,
      "outputs": [
        {
          "output_type": "stream",
          "text": [
            "Hallo\n"
          ],
          "name": "stdout"
        }
      ]
    },
    {
      "cell_type": "markdown",
      "metadata": {
        "id": "gRe-qEuE_fjB",
        "colab_type": "text"
      },
      "source": [
        "# Дипломная работа\n",
        "\n",
        "---\n",
        "АЛГОРИТМИЧЕСКАЯТОРГОВЛЯ НА ФОНДОВОМ РЫНКЕ\n"
      ]
    },
    {
      "cell_type": "markdown",
      "metadata": {
        "id": "NbGziWS_5rBC",
        "colab_type": "text"
      },
      "source": [
        "## Вариант 1: Автоматизированный поиск акции, оптимальной для торговли роботом"
      ]
    },
    {
      "cell_type": "markdown",
      "metadata": {
        "id": "c7-pKyVr7HRG",
        "colab_type": "text"
      },
      "source": [
        "### Получение котировок акции"
      ]
    },
    {
      "cell_type": "markdown",
      "metadata": {
        "id": "Dn2bD4aq7R1r",
        "colab_type": "text"
      },
      "source": [
        "### Оценка показателей волатильности и тп "
      ]
    },
    {
      "cell_type": "markdown",
      "metadata": {
        "id": "Z87RhCx67cM3",
        "colab_type": "text"
      },
      "source": [
        "### Расчет результативности применения стратегии робота"
      ]
    },
    {
      "cell_type": "markdown",
      "metadata": {
        "id": "q8yOLofP5ZPk",
        "colab_type": "text"
      },
      "source": [
        "## Вариант 2: Создание самонастраивающегося торгового робота на основе лент Боллинджера"
      ]
    },
    {
      "cell_type": "markdown",
      "metadata": {
        "id": "zI_2G6eD7p8B",
        "colab_type": "text"
      },
      "source": [
        "### Определение оптимального временного интервала (бара)"
      ]
    },
    {
      "cell_type": "markdown",
      "metadata": {
        "id": "iaTuMg_C7wRQ",
        "colab_type": "text"
      },
      "source": [
        "### Определение оптимального числа баров для само-оптимизации робота"
      ]
    },
    {
      "cell_type": "markdown",
      "metadata": {
        "id": "ydCoj3Q476UA",
        "colab_type": "text"
      },
      "source": [
        "### Определение оптимальной частоты само-настройки робота"
      ]
    },
    {
      "cell_type": "markdown",
      "metadata": {
        "id": "RoeodzFn8OoN",
        "colab_type": "text"
      },
      "source": [
        "### Само-оптимизация робота"
      ]
    },
    {
      "cell_type": "markdown",
      "metadata": {
        "id": "-6s7Wujl8eZo",
        "colab_type": "text"
      },
      "source": [
        "### Форвардный анализ - проверка качества"
      ]
    },
    {
      "cell_type": "markdown",
      "metadata": {
        "id": "ijgMpEw74i-5",
        "colab_type": "text"
      },
      "source": [
        "## Вариант 3: Формирование портфеля акций и торгующих их роботов, его оптимизация с тз показателей риска/дохода и тд\n",
        "\n",
        "\n"
      ]
    },
    {
      "cell_type": "markdown",
      "metadata": {
        "id": "2HFznA7u8nqf",
        "colab_type": "text"
      },
      "source": [
        "На основе курса Introduction to Portfolio Construction and Analysis with Python (https://www.coursera.org/learn/introduction-portfolio-construction-python)"
      ]
    }
  ]
}